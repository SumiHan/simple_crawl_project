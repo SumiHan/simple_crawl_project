{
 "cells": [
  {
   "cell_type": "code",
   "execution_count": 1,
   "metadata": {
    "collapsed": true
   },
   "outputs": [],
   "source": [
    "from bs4 import BeautifulSoup\n",
    "import requests"
   ]
  },
  {
   "cell_type": "markdown",
   "metadata": {},
   "source": [
    "### url 규칙 : \n",
    "- sample : http://ed.ted.com/lessons?category=business-economics&student_level=3&page=2\n",
    "- prefix : http://ed.ted.com/lessons?\n",
    "- category : 12개 카테고리 (category_list.txt)\n",
    "- student_level : 1~5\n",
    "- page : 1~..."
   ]
  },
  {
   "cell_type": "code",
   "execution_count": 2,
   "metadata": {
    "collapsed": true
   },
   "outputs": [],
   "source": [
    "prefix = 'http://ed.ted.com/lessons?'"
   ]
  },
  {
   "cell_type": "code",
   "execution_count": 3,
   "metadata": {
    "collapsed": true
   },
   "outputs": [],
   "source": [
    "std_level = {1: 'Elementary/Primary', \n",
    "             2: 'Middle School/Lower Secondary', \n",
    "             3: 'High School/Upper Secondary',\n",
    "             4: 'College/University',\n",
    "             5: 'Other',\n",
    "            }"
   ]
  },
  {
   "cell_type": "code",
   "execution_count": 4,
   "metadata": {
    "collapsed": false
   },
   "outputs": [
    {
     "name": "stdout",
     "output_type": "stream",
     "text": [
      "['the-arts', 'business-economics', 'design-engineering-technology', 'health', 'literature-language', 'mathematics', 'philosophy-religion', 'psychology', 'science-technology', 'social-studies', 'teaching-education', 'thinking-learning']\n"
     ]
    }
   ],
   "source": [
    "category_list = []\n",
    "with open(\"category_list.txt\", \"r\") as f:\n",
    "    for line in f.read().splitlines():\n",
    "        category_list.append(line)\n",
    "print(category_list)"
   ]
  },
  {
   "cell_type": "code",
   "execution_count": 5,
   "metadata": {
    "collapsed": false
   },
   "outputs": [
    {
     "data": {
      "text/plain": [
       "'http://ed.ted.com/lessons'"
      ]
     },
     "execution_count": 5,
     "metadata": {},
     "output_type": "execute_result"
    }
   ],
   "source": [
    "sample_url = 'http://ed.ted.com/lessons'\n",
    "sample_url"
   ]
  },
  {
   "cell_type": "code",
   "execution_count": 6,
   "metadata": {
    "collapsed": false
   },
   "outputs": [],
   "source": [
    "r = requests.get(sample_url, timeout=30)\n",
    "soup = BeautifulSoup(r.text, 'lxml')"
   ]
  },
  {
   "cell_type": "code",
   "execution_count": 7,
   "metadata": {
    "collapsed": false
   },
   "outputs": [
    {
     "data": {
      "text/plain": [
       "['Does this look white to you? - 04:50',\n",
       " 'How do animals see in the dark? - Anna Stöckl - 04:23',\n",
       " 'Our natural sleep cycle is nothing like what we do now - 04:32',\n",
       " 'Are spotty fruits and vegetables safe to eat? - Elizabeth Brauer - 04:09',\n",
       " 'What is the biggest single-celled organism? - Murry Gans - 04:07',\n",
       " 'This Video Will Make You Angry - 07:26',\n",
       " \"How to stay calm when you know you'll be stressed - 12:21\",\n",
       " 'Could You Survive 2.5 Million Years Ago? - 03:02',\n",
       " 'How to visualize one part per million - Kim Preshoff + The TED-Ed Community - 02:28',\n",
       " 'Why Are Bad Words Bad? - 10:46',\n",
       " 'How a single-celled organism almost wiped out life on Earth - Anusuya Willis - 04:14',\n",
       " 'What Makes a Good Life? Lessons from the Longest Study on Happiness - 12:47',\n",
       " 'How to make magnetic slime - 05:15',\n",
       " 'How coffee got quicker | Moments of Vision 2 - Jessica Oreck - 01:48',\n",
       " 'The Case For Andy Warhol - 03:42',\n",
       " 'Real life sunken cities - Peter Campbell - 04:31',\n",
       " 'Your words may predict your future mental health - 12:15',\n",
       " 'Why do we kiss? - 04:01',\n",
       " 'Which sunscreen should you choose? - Mary Poffenroth - 04:40',\n",
       " 'What causes addiction? - 05:42',\n",
       " \"Why you think you're right — even if you're wrong - 11:46\",\n",
       " 'Why do we hiccup? - John Cameron - 04:50',\n",
       " 'Should we be looking for life elsewhere in the universe? - Aomawa Shields - 04:36',\n",
       " 'An Exercise in Self Compassion - 04:43']"
      ]
     },
     "execution_count": 7,
     "metadata": {},
     "output_type": "execute_result"
    }
   ],
   "source": [
    "# 페이지의 타이틀, 재생시간 파싱 테스트\n",
    "item_rule = 'div#lessons-grid div.video-text a'\n",
    "items = soup.select(item_rule)\n",
    "[item.text.strip() for item in items]"
   ]
  },
  {
   "cell_type": "code",
   "execution_count": 8,
   "metadata": {
    "collapsed": false
   },
   "outputs": [
    {
     "data": {
      "text/plain": [
       "['3,614,424 Views',\n",
       " '77,086 Views',\n",
       " '174,545 Views',\n",
       " '144,793 Views',\n",
       " '141,963 Views',\n",
       " '4,087,026 Views',\n",
       " '2,198,631 Views',\n",
       " '750,093 Views',\n",
       " '171,632 Views',\n",
       " '10,243,387 Views',\n",
       " '222,582 Views',\n",
       " '3,946,772 Views',\n",
       " '16,530,491 Views',\n",
       " '201,293 Views',\n",
       " '58,935 Views',\n",
       " '165,419 Views',\n",
       " '225,385 Views',\n",
       " '1,151,192 Views',\n",
       " '191,840 Views',\n",
       " '8,802,546 Views',\n",
       " '35,701 Views',\n",
       " '388,622 Views',\n",
       " '218,542 Views',\n",
       " '539,496 Views']"
      ]
     },
     "execution_count": 8,
     "metadata": {},
     "output_type": "execute_result"
    }
   ],
   "source": [
    "# 페이지의 뷰 파싱 (추후 필요하면..!)\n",
    "view_rule = 'div#lessons-grid div.video-hit-count'\n",
    "views = soup.select(view_rule)\n",
    "[view.text.strip() for view in views]\n",
    "\n",
    "# import re\n",
    "# string = \"Hu765adjH665Sdjda\"\n",
    "# string = re.sub('[^0-9]', '', string)\n",
    "# print(string)"
   ]
  },
  {
   "cell_type": "code",
   "execution_count": 29,
   "metadata": {
    "collapsed": false,
    "scrolled": true
   },
   "outputs": [
    {
     "data": {
      "text/plain": [
       "[('http://ed.ted.com/lessons?category=the-arts&student_level=1&page=',\n",
       "  'the-arts',\n",
       "  1),\n",
       " ('http://ed.ted.com/lessons?category=the-arts&student_level=2&page=',\n",
       "  'the-arts',\n",
       "  2),\n",
       " ('http://ed.ted.com/lessons?category=the-arts&student_level=3&page=',\n",
       "  'the-arts',\n",
       "  3),\n",
       " ('http://ed.ted.com/lessons?category=the-arts&student_level=4&page=',\n",
       "  'the-arts',\n",
       "  4),\n",
       " ('http://ed.ted.com/lessons?category=the-arts&student_level=5&page=',\n",
       "  'the-arts',\n",
       "  5),\n",
       " ('http://ed.ted.com/lessons?category=business-economics&student_level=1&page=',\n",
       "  'business-economics',\n",
       "  1),\n",
       " ('http://ed.ted.com/lessons?category=business-economics&student_level=2&page=',\n",
       "  'business-economics',\n",
       "  2),\n",
       " ('http://ed.ted.com/lessons?category=business-economics&student_level=3&page=',\n",
       "  'business-economics',\n",
       "  3),\n",
       " ('http://ed.ted.com/lessons?category=business-economics&student_level=4&page=',\n",
       "  'business-economics',\n",
       "  4),\n",
       " ('http://ed.ted.com/lessons?category=business-economics&student_level=5&page=',\n",
       "  'business-economics',\n",
       "  5),\n",
       " ('http://ed.ted.com/lessons?category=design-engineering-technology&student_level=1&page=',\n",
       "  'design-engineering-technology',\n",
       "  1),\n",
       " ('http://ed.ted.com/lessons?category=design-engineering-technology&student_level=2&page=',\n",
       "  'design-engineering-technology',\n",
       "  2),\n",
       " ('http://ed.ted.com/lessons?category=design-engineering-technology&student_level=3&page=',\n",
       "  'design-engineering-technology',\n",
       "  3),\n",
       " ('http://ed.ted.com/lessons?category=design-engineering-technology&student_level=4&page=',\n",
       "  'design-engineering-technology',\n",
       "  4),\n",
       " ('http://ed.ted.com/lessons?category=design-engineering-technology&student_level=5&page=',\n",
       "  'design-engineering-technology',\n",
       "  5),\n",
       " ('http://ed.ted.com/lessons?category=health&student_level=1&page=',\n",
       "  'health',\n",
       "  1),\n",
       " ('http://ed.ted.com/lessons?category=health&student_level=2&page=',\n",
       "  'health',\n",
       "  2),\n",
       " ('http://ed.ted.com/lessons?category=health&student_level=3&page=',\n",
       "  'health',\n",
       "  3),\n",
       " ('http://ed.ted.com/lessons?category=health&student_level=4&page=',\n",
       "  'health',\n",
       "  4),\n",
       " ('http://ed.ted.com/lessons?category=health&student_level=5&page=',\n",
       "  'health',\n",
       "  5),\n",
       " ('http://ed.ted.com/lessons?category=literature-language&student_level=1&page=',\n",
       "  'literature-language',\n",
       "  1),\n",
       " ('http://ed.ted.com/lessons?category=literature-language&student_level=2&page=',\n",
       "  'literature-language',\n",
       "  2),\n",
       " ('http://ed.ted.com/lessons?category=literature-language&student_level=3&page=',\n",
       "  'literature-language',\n",
       "  3),\n",
       " ('http://ed.ted.com/lessons?category=literature-language&student_level=4&page=',\n",
       "  'literature-language',\n",
       "  4),\n",
       " ('http://ed.ted.com/lessons?category=literature-language&student_level=5&page=',\n",
       "  'literature-language',\n",
       "  5),\n",
       " ('http://ed.ted.com/lessons?category=mathematics&student_level=1&page=',\n",
       "  'mathematics',\n",
       "  1),\n",
       " ('http://ed.ted.com/lessons?category=mathematics&student_level=2&page=',\n",
       "  'mathematics',\n",
       "  2),\n",
       " ('http://ed.ted.com/lessons?category=mathematics&student_level=3&page=',\n",
       "  'mathematics',\n",
       "  3),\n",
       " ('http://ed.ted.com/lessons?category=mathematics&student_level=4&page=',\n",
       "  'mathematics',\n",
       "  4),\n",
       " ('http://ed.ted.com/lessons?category=mathematics&student_level=5&page=',\n",
       "  'mathematics',\n",
       "  5),\n",
       " ('http://ed.ted.com/lessons?category=philosophy-religion&student_level=1&page=',\n",
       "  'philosophy-religion',\n",
       "  1),\n",
       " ('http://ed.ted.com/lessons?category=philosophy-religion&student_level=2&page=',\n",
       "  'philosophy-religion',\n",
       "  2),\n",
       " ('http://ed.ted.com/lessons?category=philosophy-religion&student_level=3&page=',\n",
       "  'philosophy-religion',\n",
       "  3),\n",
       " ('http://ed.ted.com/lessons?category=philosophy-religion&student_level=4&page=',\n",
       "  'philosophy-religion',\n",
       "  4),\n",
       " ('http://ed.ted.com/lessons?category=philosophy-religion&student_level=5&page=',\n",
       "  'philosophy-religion',\n",
       "  5),\n",
       " ('http://ed.ted.com/lessons?category=psychology&student_level=1&page=',\n",
       "  'psychology',\n",
       "  1),\n",
       " ('http://ed.ted.com/lessons?category=psychology&student_level=2&page=',\n",
       "  'psychology',\n",
       "  2),\n",
       " ('http://ed.ted.com/lessons?category=psychology&student_level=3&page=',\n",
       "  'psychology',\n",
       "  3),\n",
       " ('http://ed.ted.com/lessons?category=psychology&student_level=4&page=',\n",
       "  'psychology',\n",
       "  4),\n",
       " ('http://ed.ted.com/lessons?category=psychology&student_level=5&page=',\n",
       "  'psychology',\n",
       "  5),\n",
       " ('http://ed.ted.com/lessons?category=science-technology&student_level=1&page=',\n",
       "  'science-technology',\n",
       "  1),\n",
       " ('http://ed.ted.com/lessons?category=science-technology&student_level=2&page=',\n",
       "  'science-technology',\n",
       "  2),\n",
       " ('http://ed.ted.com/lessons?category=science-technology&student_level=3&page=',\n",
       "  'science-technology',\n",
       "  3),\n",
       " ('http://ed.ted.com/lessons?category=science-technology&student_level=4&page=',\n",
       "  'science-technology',\n",
       "  4),\n",
       " ('http://ed.ted.com/lessons?category=science-technology&student_level=5&page=',\n",
       "  'science-technology',\n",
       "  5),\n",
       " ('http://ed.ted.com/lessons?category=social-studies&student_level=1&page=',\n",
       "  'social-studies',\n",
       "  1),\n",
       " ('http://ed.ted.com/lessons?category=social-studies&student_level=2&page=',\n",
       "  'social-studies',\n",
       "  2),\n",
       " ('http://ed.ted.com/lessons?category=social-studies&student_level=3&page=',\n",
       "  'social-studies',\n",
       "  3),\n",
       " ('http://ed.ted.com/lessons?category=social-studies&student_level=4&page=',\n",
       "  'social-studies',\n",
       "  4),\n",
       " ('http://ed.ted.com/lessons?category=social-studies&student_level=5&page=',\n",
       "  'social-studies',\n",
       "  5),\n",
       " ('http://ed.ted.com/lessons?category=teaching-education&student_level=1&page=',\n",
       "  'teaching-education',\n",
       "  1),\n",
       " ('http://ed.ted.com/lessons?category=teaching-education&student_level=2&page=',\n",
       "  'teaching-education',\n",
       "  2),\n",
       " ('http://ed.ted.com/lessons?category=teaching-education&student_level=3&page=',\n",
       "  'teaching-education',\n",
       "  3),\n",
       " ('http://ed.ted.com/lessons?category=teaching-education&student_level=4&page=',\n",
       "  'teaching-education',\n",
       "  4),\n",
       " ('http://ed.ted.com/lessons?category=teaching-education&student_level=5&page=',\n",
       "  'teaching-education',\n",
       "  5),\n",
       " ('http://ed.ted.com/lessons?category=thinking-learning&student_level=1&page=',\n",
       "  'thinking-learning',\n",
       "  1),\n",
       " ('http://ed.ted.com/lessons?category=thinking-learning&student_level=2&page=',\n",
       "  'thinking-learning',\n",
       "  2),\n",
       " ('http://ed.ted.com/lessons?category=thinking-learning&student_level=3&page=',\n",
       "  'thinking-learning',\n",
       "  3),\n",
       " ('http://ed.ted.com/lessons?category=thinking-learning&student_level=4&page=',\n",
       "  'thinking-learning',\n",
       "  4),\n",
       " ('http://ed.ted.com/lessons?category=thinking-learning&student_level=5&page=',\n",
       "  'thinking-learning',\n",
       "  5)]"
      ]
     },
     "execution_count": 29,
     "metadata": {},
     "output_type": "execute_result"
    }
   ],
   "source": [
    "url_p_list = []\n",
    "for category in category_list:\n",
    "    for level in std_level.keys():\n",
    "        url_p = '%scategory=%s&student_level=%s&page=' % (prefix, category, level)\n",
    "        url_p_list.append((url_p, category, level))\n",
    "url_p_list"
   ]
  },
  {
   "cell_type": "code",
   "execution_count": 30,
   "metadata": {
    "collapsed": false
   },
   "outputs": [
    {
     "name": "stdout",
     "output_type": "stream",
     "text": [
      "http://ed.ted.com/lessons?category=the-arts&student_level=1&page=3 3\n",
      "http://ed.ted.com/lessons?category=the-arts&student_level=2&page=4 4\n",
      "http://ed.ted.com/lessons?category=the-arts&student_level=3&page=5 5\n",
      "http://ed.ted.com/lessons?category=the-arts&student_level=4&page=5 5\n",
      "http://ed.ted.com/lessons?category=the-arts&student_level=5&page=2 2\n",
      "http://ed.ted.com/lessons?category=business-economics&student_level=1&page=2 2\n",
      "http://ed.ted.com/lessons?category=business-economics&student_level=2&page=2 2\n",
      "http://ed.ted.com/lessons?category=business-economics&student_level=3&page=3 3\n",
      "http://ed.ted.com/lessons?category=business-economics&student_level=4&page=3 3\n",
      "http://ed.ted.com/lessons?category=business-economics&student_level=5&page=2 2\n",
      "http://ed.ted.com/lessons?category=design-engineering-technology&student_level=1&page=3 3\n",
      "http://ed.ted.com/lessons?category=design-engineering-technology&student_level=2&page=5 5\n",
      "http://ed.ted.com/lessons?category=design-engineering-technology&student_level=3&page=7 7\n",
      "http://ed.ted.com/lessons?category=design-engineering-technology&student_level=4&page=6 6\n",
      "http://ed.ted.com/lessons?category=design-engineering-technology&student_level=5&page=2 2\n",
      "http://ed.ted.com/lessons?category=health&student_level=1&page=3 3\n",
      "http://ed.ted.com/lessons?category=health&student_level=2&page=6 6\n",
      "http://ed.ted.com/lessons?category=health&student_level=3&page=8 8\n",
      "http://ed.ted.com/lessons?category=health&student_level=4&page=7 7\n",
      "http://ed.ted.com/lessons?category=health&student_level=5&page=2 2\n",
      "http://ed.ted.com/lessons?category=literature-language&student_level=1&page=4 4\n",
      "http://ed.ted.com/lessons?category=literature-language&student_level=2&page=5 5\n",
      "http://ed.ted.com/lessons?category=literature-language&student_level=3&page=6 6\n",
      "http://ed.ted.com/lessons?category=literature-language&student_level=4&page=5 5\n",
      "http://ed.ted.com/lessons?category=literature-language&student_level=5&page=2 2\n",
      "http://ed.ted.com/lessons?category=mathematics&student_level=1&page=2 2\n",
      "http://ed.ted.com/lessons?category=mathematics&student_level=2&page=4 4\n",
      "http://ed.ted.com/lessons?category=mathematics&student_level=3&page=5 5\n",
      "http://ed.ted.com/lessons?category=mathematics&student_level=4&page=4 4\n",
      "http://ed.ted.com/lessons?category=mathematics&student_level=5&page=2 2\n",
      "http://ed.ted.com/lessons?category=philosophy-religion&student_level=1&page=2 2\n",
      "http://ed.ted.com/lessons?category=philosophy-religion&student_level=2&page=3 3\n",
      "http://ed.ted.com/lessons?category=philosophy-religion&student_level=3&page=4 4\n",
      "http://ed.ted.com/lessons?category=philosophy-religion&student_level=4&page=3 3\n",
      "http://ed.ted.com/lessons?category=philosophy-religion&student_level=5&page=2 2\n",
      "http://ed.ted.com/lessons?category=psychology&student_level=1&page=2 2\n",
      "http://ed.ted.com/lessons?category=psychology&student_level=2&page=5 5\n",
      "http://ed.ted.com/lessons?category=psychology&student_level=3&page=6 6\n",
      "http://ed.ted.com/lessons?category=psychology&student_level=4&page=6 6\n",
      "http://ed.ted.com/lessons?category=psychology&student_level=5&page=2 2\n",
      "http://ed.ted.com/lessons?category=science-technology&student_level=1&page=6 6\n",
      "http://ed.ted.com/lessons?category=science-technology&student_level=2&page=16 16\n",
      "http://ed.ted.com/lessons?category=science-technology&student_level=3&page=24 24\n",
      "http://ed.ted.com/lessons?category=science-technology&student_level=4&page=20 20\n",
      "http://ed.ted.com/lessons?category=science-technology&student_level=5&page=2 2\n",
      "http://ed.ted.com/lessons?category=social-studies&student_level=1&page=4 4\n",
      "http://ed.ted.com/lessons?category=social-studies&student_level=2&page=8 8\n",
      "http://ed.ted.com/lessons?category=social-studies&student_level=3&page=10 10\n",
      "http://ed.ted.com/lessons?category=social-studies&student_level=4&page=9 9\n",
      "http://ed.ted.com/lessons?category=social-studies&student_level=5&page=2 2\n",
      "http://ed.ted.com/lessons?category=teaching-education&student_level=1&page=2 2\n",
      "http://ed.ted.com/lessons?category=teaching-education&student_level=2&page=2 2\n",
      "http://ed.ted.com/lessons?category=teaching-education&student_level=3&page=2 2\n",
      "http://ed.ted.com/lessons?category=teaching-education&student_level=4&page=2 2\n",
      "http://ed.ted.com/lessons?category=teaching-education&student_level=5&page=1 1\n",
      "http://ed.ted.com/lessons?category=thinking-learning&student_level=1&page=2 2\n",
      "http://ed.ted.com/lessons?category=thinking-learning&student_level=2&page=5 5\n",
      "http://ed.ted.com/lessons?category=thinking-learning&student_level=3&page=6 6\n",
      "http://ed.ted.com/lessons?category=thinking-learning&student_level=4&page=5 5\n",
      "http://ed.ted.com/lessons?category=thinking-learning&student_level=5&page=2 2\n"
     ]
    }
   ],
   "source": [
    "item_rule = 'div#lessons-grid div.video-text a'\n",
    "\n",
    "\n",
    "f = open(\"foo2.tsv\", 'w')\n",
    "\n",
    "for url_p, category, level in url_p_list:\n",
    "    is_last_page = False\n",
    "    page_num = 1\n",
    "    while not is_last_page:\n",
    "        url = url_p + str(page_num)\n",
    "        r = requests.get(url, timeout=30)\n",
    "        soup = BeautifulSoup(r.text, 'lxml')\n",
    "        items = soup.select(item_rule)\n",
    "        if not items: # 크롤링한 페이지에서 아이템이 하나도 없으면 마지막 페이지\n",
    "            is_last_page = True\n",
    "            print(url, page_num)\n",
    "        for item in items:\n",
    "            item_text = item.text.strip()\n",
    "            row = '%s\\t%s\\t' %(category, std_level[level]) + '\\t'.join(item_text.split(' - '))+'\\n'\n",
    "            f.write(row)\n",
    "        page_num += 1\n",
    "    \n",
    "    \n",
    "f.close()    "
   ]
  },
  {
   "cell_type": "code",
   "execution_count": 93,
   "metadata": {
    "collapsed": false
   },
   "outputs": [
    {
     "name": "stdout",
     "output_type": "stream",
     "text": [
      "http://ed.ted.com/lessons?category=the-arts&student_level=1&page=\n",
      "http://ed.ted.com/lessons?category=the-arts&student_level=2&page=\n",
      "http://ed.ted.com/lessons?category=the-arts&student_level=3&page=\n",
      "http://ed.ted.com/lessons?category=the-arts&student_level=4&page=\n",
      "http://ed.ted.com/lessons?category=the-arts&student_level=5&page=\n",
      "http://ed.ted.com/lessons?category=business-economics&student_level=1&page=\n",
      "http://ed.ted.com/lessons?category=business-economics&student_level=2&page=\n",
      "http://ed.ted.com/lessons?category=business-economics&student_level=3&page=\n",
      "http://ed.ted.com/lessons?category=business-economics&student_level=4&page=\n",
      "http://ed.ted.com/lessons?category=business-economics&student_level=5&page=\n",
      "http://ed.ted.com/lessons?category=design-engineering-technology&student_level=1&page=\n",
      "http://ed.ted.com/lessons?category=design-engineering-technology&student_level=2&page=\n",
      "http://ed.ted.com/lessons?category=design-engineering-technology&student_level=3&page=\n",
      "http://ed.ted.com/lessons?category=design-engineering-technology&student_level=4&page=\n",
      "http://ed.ted.com/lessons?category=design-engineering-technology&student_level=5&page=\n",
      "http://ed.ted.com/lessons?category=health&student_level=1&page=\n",
      "http://ed.ted.com/lessons?category=health&student_level=2&page=\n",
      "http://ed.ted.com/lessons?category=health&student_level=3&page=\n",
      "http://ed.ted.com/lessons?category=health&student_level=4&page=\n",
      "http://ed.ted.com/lessons?category=health&student_level=5&page=\n",
      "http://ed.ted.com/lessons?category=literature-language&student_level=1&page=\n",
      "http://ed.ted.com/lessons?category=literature-language&student_level=2&page=\n",
      "http://ed.ted.com/lessons?category=literature-language&student_level=3&page=\n",
      "http://ed.ted.com/lessons?category=literature-language&student_level=4&page=\n",
      "http://ed.ted.com/lessons?category=literature-language&student_level=5&page=\n",
      "http://ed.ted.com/lessons?category=mathematics&student_level=1&page=\n",
      "http://ed.ted.com/lessons?category=mathematics&student_level=2&page=\n",
      "http://ed.ted.com/lessons?category=mathematics&student_level=3&page=\n",
      "http://ed.ted.com/lessons?category=mathematics&student_level=4&page=\n",
      "http://ed.ted.com/lessons?category=mathematics&student_level=5&page=\n",
      "http://ed.ted.com/lessons?category=philosophy-religion&student_level=1&page=\n",
      "http://ed.ted.com/lessons?category=philosophy-religion&student_level=2&page=\n",
      "http://ed.ted.com/lessons?category=philosophy-religion&student_level=3&page=\n",
      "http://ed.ted.com/lessons?category=philosophy-religion&student_level=4&page=\n",
      "http://ed.ted.com/lessons?category=philosophy-religion&student_level=5&page=\n",
      "http://ed.ted.com/lessons?category=psychology&student_level=1&page=\n",
      "http://ed.ted.com/lessons?category=psychology&student_level=2&page=\n",
      "http://ed.ted.com/lessons?category=psychology&student_level=3&page=\n",
      "http://ed.ted.com/lessons?category=psychology&student_level=4&page=\n",
      "http://ed.ted.com/lessons?category=psychology&student_level=5&page=\n",
      "http://ed.ted.com/lessons?category=science-technology&student_level=1&page=\n",
      "http://ed.ted.com/lessons?category=science-technology&student_level=2&page=\n",
      "http://ed.ted.com/lessons?category=science-technology&student_level=3&page=\n",
      "http://ed.ted.com/lessons?category=science-technology&student_level=4&page=\n",
      "http://ed.ted.com/lessons?category=science-technology&student_level=5&page=\n",
      "http://ed.ted.com/lessons?category=social-studies&student_level=1&page=\n",
      "http://ed.ted.com/lessons?category=social-studies&student_level=2&page=\n",
      "http://ed.ted.com/lessons?category=social-studies&student_level=3&page=\n",
      "http://ed.ted.com/lessons?category=social-studies&student_level=4&page=\n",
      "http://ed.ted.com/lessons?category=social-studies&student_level=5&page=\n",
      "http://ed.ted.com/lessons?category=teaching-education&student_level=1&page=\n",
      "http://ed.ted.com/lessons?category=teaching-education&student_level=2&page=\n",
      "http://ed.ted.com/lessons?category=teaching-education&student_level=3&page=\n",
      "http://ed.ted.com/lessons?category=teaching-education&student_level=4&page=\n",
      "http://ed.ted.com/lessons?category=teaching-education&student_level=5&page=\n",
      "http://ed.ted.com/lessons?category=thinking-learning&student_level=1&page=\n",
      "http://ed.ted.com/lessons?category=thinking-learning&student_level=2&page=\n",
      "http://ed.ted.com/lessons?category=thinking-learning&student_level=3&page=\n",
      "http://ed.ted.com/lessons?category=thinking-learning&student_level=4&page=\n",
      "http://ed.ted.com/lessons?category=thinking-learning&student_level=5&page=\n"
     ]
    }
   ],
   "source": [
    "\n",
    "\n",
    "f = open(\"foo.tsv\", 'w')\n",
    "\n",
    "for category in category_list:\n",
    "    for level in std_level.keys():\n",
    "        url_p = '%scategory=%s&student_level=%s&page=' % (prefix, category, level)\n",
    "        print(url_p)\n",
    "        page_num = 1\n",
    "#         is_last_page = False\n",
    "        while not is_last_page:\n",
    "            url = url_p + str(page_num)\n",
    "            r = requests.get(url, timeout=30)\n",
    "            soup = BeautifulSoup(r.text, 'lxml')\n",
    "            items = soup.select(item_rule)\n",
    "            if not items: # 크롤링한\n",
    "                break\n",
    "            for item in items:\n",
    "                item_text = item.text.strip()\n",
    "                row = '%s\\t%s\\t' %(category, std_level[level]) + '\\t'.join(item_text.split(' - '))+'\\n'\n",
    "                print(row)\n",
    "                f.write(row)\n",
    "            page_num += 1\n",
    "            \n",
    "            \n",
    "            \n",
    "f.close()        "
   ]
  },
  {
   "cell_type": "code",
   "execution_count": 53,
   "metadata": {
    "collapsed": false
   },
   "outputs": [],
   "source": [
    "url = 'http://ed.ted.com/lessons?category=the-arts&student_level=2&page=3'\n",
    "r = requests.get(url, timeout=30)\n",
    "soup = BeautifulSoup(r.text, 'lxml')"
   ]
  },
  {
   "cell_type": "code",
   "execution_count": 84,
   "metadata": {
    "collapsed": false
   },
   "outputs": [
    {
     "name": "stdout",
     "output_type": "stream",
     "text": [
      "thinking-learning\tOther\tDissecting Botticelli’s Adoration of the Magi\tJames Earle\t03:12\n",
      "\n",
      "thinking-learning\tOther\tDevelopment of English drama\tMindy Ploeckelmann\t03:47\n",
      "\n",
      "thinking-learning\tOther\tGyotaku: The ancient Japanese art of printing fish\tK. Erica Dodge\t03:38\n",
      "\n",
      "thinking-learning\tOther\tA cinematic journey through visual effects\tDon Levy\t06:55\n",
      "\n",
      "thinking-learning\tOther\tAnimation basics: Homemade special effects\tTED-Ed\t04:19\n",
      "\n",
      "thinking-learning\tOther\tWhat cameras see that our eyes don’t\tBill Shribman\t03:20\n",
      "\n",
      "thinking-learning\tOther\tTo This Day Project\tShane Koyczan\t07:37\n",
      "\n",
      "thinking-learning\tOther\tBecome a slam poet in five steps\tGayle Danley\t03:32\n",
      "\n",
      "thinking-learning\tOther\tVisualizing hidden worlds inside your body\tDee Breger\t06:06\n",
      "\n",
      "thinking-learning\tOther\tIlluminating photography: From camera obscura to camera phone\tEva Timothy\t04:50\n",
      "\n",
      "thinking-learning\tOther\tBeach Bodies (in spoken word)\tDavid Fasanya and Gabriel Barralaga\t03:33\n",
      "\n",
      "thinking-learning\tOther\tDistorting Madonna in Medieval art\tJames Earle\t03:11\n",
      "\n",
      "thinking-learning\tOther\tThe dawn of art\t05:19\n",
      "\n",
      "thinking-learning\tOther\tA tap dancer's craft\tAndrew Nemr\t05:52\n",
      "\n",
      "thinking-learning\tOther\tInside a cartoonist’s world\tLiza Donnelly\t04:23\n",
      "\n",
      "thinking-learning\tOther\tLet's talk about sex\tJohn Bohannon and Black Label Movement\t10:43\n",
      "\n",
      "thinking-learning\tOther\tMusic as a language\tVictor Wooten\t05:00\n",
      "\n",
      "thinking-learning\tOther\tInsults by Shakespeare\tApril Gudenrath\t06:24\n",
      "\n"
     ]
    }
   ],
   "source": [
    "# 페이지의 타이틀, 재생시간 파싱 테스트\n",
    "item_rule = 'div#lessons-grid div.video-text a'\n",
    "items = soup.select(item_rule)\n",
    "with open(\"ted_lesson_list.tsv\", \"w\") as f:\n",
    "    for item in items:\n",
    "        item_text = item.text.strip()\n",
    "        row = '%s\\t%s\\t' %(category, std_level[level]) + '\\t'.join(item_text.split(' - '))+'\\n'\n",
    "        print(row)\n",
    "        f.write(row)"
   ]
  },
  {
   "cell_type": "code",
   "execution_count": null,
   "metadata": {
    "collapsed": true
   },
   "outputs": [],
   "source": []
  },
  {
   "cell_type": "code",
   "execution_count": null,
   "metadata": {
    "collapsed": true
   },
   "outputs": [],
   "source": []
  },
  {
   "cell_type": "code",
   "execution_count": null,
   "metadata": {
    "collapsed": true
   },
   "outputs": [],
   "source": []
  }
 ],
 "metadata": {
  "kernelspec": {
   "display_name": "Python 3",
   "language": "python",
   "name": "python3"
  },
  "language_info": {
   "codemirror_mode": {
    "name": "ipython",
    "version": 3
   },
   "file_extension": ".py",
   "mimetype": "text/x-python",
   "name": "python",
   "nbconvert_exporter": "python",
   "pygments_lexer": "ipython3",
   "version": "3.5.0"
  }
 },
 "nbformat": 4,
 "nbformat_minor": 0
}
